{
 "cells": [
  {
   "cell_type": "markdown",
   "metadata": {},
   "source": []
  },
  {
   "cell_type": "code",
   "execution_count": 1,
   "metadata": {},
   "outputs": [],
   "source": [
    "# my_notebook.ipynb\n",
    "\n",
    "import sys\n",
    "import os\n",
    "import pandas as pd\n",
    "import numpy as np\n",
    "import matplotlib.pyplot as plt\n",
    "import seaborn as sns\n",
    "import sklearn\n",
    "from sklearn.preprocessing import StandardScaler\n",
    "from sklearn.cluster import KMeans\n"
   ]
  },
  {
   "cell_type": "code",
   "execution_count": 2,
   "metadata": {},
   "outputs": [],
   "source": [
    "scripts_dir = os.path.abspath(\"../scripts\") \n",
    "if scripts_dir not in sys.path:\n",
    "    sys.path.append(scripts_dir)\n",
    "\n",
    "# Now you can import modules from the scripts directory\n",
    "from db_connection import connect_to_database\n",
    "\n",
    "conn = connect_to_database()"
   ]
  },
  {
   "cell_type": "code",
   "execution_count": 3,
   "metadata": {},
   "outputs": [],
   "source": [
    "sql_query = \"\"\"\n",
    "SELECT * FROM xdr_data\n",
    "\"\"\"\n",
    "\n",
    "\n"
   ]
  },
  {
   "cell_type": "code",
   "execution_count": 4,
   "metadata": {},
   "outputs": [
    {
     "name": "stderr",
     "output_type": "stream",
     "text": [
      "C:\\Users\\Nole\\AppData\\Local\\Temp\\ipykernel_22880\\123498240.py:2: UserWarning: pandas only supports SQLAlchemy connectable (engine/connection) or database string URI or sqlite3 DBAPI2 connection. Other DBAPI2 objects are not tested. Please consider using SQLAlchemy.\n",
      "  df = pd.read_sql_query(sql_query, conn)\n"
     ]
    },
    {
     "data": {
      "text/html": [
       "<div>\n",
       "<style scoped>\n",
       "    .dataframe tbody tr th:only-of-type {\n",
       "        vertical-align: middle;\n",
       "    }\n",
       "\n",
       "    .dataframe tbody tr th {\n",
       "        vertical-align: top;\n",
       "    }\n",
       "\n",
       "    .dataframe thead th {\n",
       "        text-align: right;\n",
       "    }\n",
       "</style>\n",
       "<table border=\"1\" class=\"dataframe\">\n",
       "  <thead>\n",
       "    <tr style=\"text-align: right;\">\n",
       "      <th></th>\n",
       "      <th>Bearer Id</th>\n",
       "      <th>Start</th>\n",
       "      <th>Start ms</th>\n",
       "      <th>End</th>\n",
       "      <th>End ms</th>\n",
       "      <th>Dur. (ms)</th>\n",
       "      <th>IMSI</th>\n",
       "      <th>MSISDN/Number</th>\n",
       "      <th>IMEI</th>\n",
       "      <th>Last Location Name</th>\n",
       "      <th>...</th>\n",
       "      <th>Youtube DL (Bytes)</th>\n",
       "      <th>Youtube UL (Bytes)</th>\n",
       "      <th>Netflix DL (Bytes)</th>\n",
       "      <th>Netflix UL (Bytes)</th>\n",
       "      <th>Gaming DL (Bytes)</th>\n",
       "      <th>Gaming UL (Bytes)</th>\n",
       "      <th>Other DL (Bytes)</th>\n",
       "      <th>Other UL (Bytes)</th>\n",
       "      <th>Total UL (Bytes)</th>\n",
       "      <th>Total DL (Bytes)</th>\n",
       "    </tr>\n",
       "  </thead>\n",
       "  <tbody>\n",
       "    <tr>\n",
       "      <th>0</th>\n",
       "      <td>1.311448e+19</td>\n",
       "      <td>4/4/2019 12:01</td>\n",
       "      <td>770.0</td>\n",
       "      <td>4/25/2019 14:35</td>\n",
       "      <td>662.0</td>\n",
       "      <td>1823652.0</td>\n",
       "      <td>2.082014e+14</td>\n",
       "      <td>3.366496e+10</td>\n",
       "      <td>3.552121e+13</td>\n",
       "      <td>9.16456699548519E+015</td>\n",
       "      <td>...</td>\n",
       "      <td>1.585461e+07</td>\n",
       "      <td>2.501332e+06</td>\n",
       "      <td>8.198936e+06</td>\n",
       "      <td>9.656251e+06</td>\n",
       "      <td>2.780823e+08</td>\n",
       "      <td>1.434415e+07</td>\n",
       "      <td>1.717444e+08</td>\n",
       "      <td>8.814393e+06</td>\n",
       "      <td>36749741.0</td>\n",
       "      <td>308879636.0</td>\n",
       "    </tr>\n",
       "    <tr>\n",
       "      <th>1</th>\n",
       "      <td>1.311448e+19</td>\n",
       "      <td>4/9/2019 13:04</td>\n",
       "      <td>235.0</td>\n",
       "      <td>4/25/2019 8:15</td>\n",
       "      <td>606.0</td>\n",
       "      <td>1365104.0</td>\n",
       "      <td>2.082019e+14</td>\n",
       "      <td>3.368185e+10</td>\n",
       "      <td>3.579401e+13</td>\n",
       "      <td>L77566A</td>\n",
       "      <td>...</td>\n",
       "      <td>2.024740e+07</td>\n",
       "      <td>1.911173e+07</td>\n",
       "      <td>1.833841e+07</td>\n",
       "      <td>1.722713e+07</td>\n",
       "      <td>6.087501e+08</td>\n",
       "      <td>1.170709e+06</td>\n",
       "      <td>5.269042e+08</td>\n",
       "      <td>1.505514e+07</td>\n",
       "      <td>53800391.0</td>\n",
       "      <td>653384965.0</td>\n",
       "    </tr>\n",
       "    <tr>\n",
       "      <th>2</th>\n",
       "      <td>1.311448e+19</td>\n",
       "      <td>4/9/2019 17:42</td>\n",
       "      <td>1.0</td>\n",
       "      <td>4/25/2019 11:58</td>\n",
       "      <td>652.0</td>\n",
       "      <td>1361762.0</td>\n",
       "      <td>2.082003e+14</td>\n",
       "      <td>3.376063e+10</td>\n",
       "      <td>3.528151e+13</td>\n",
       "      <td>D42335A</td>\n",
       "      <td>...</td>\n",
       "      <td>1.972566e+07</td>\n",
       "      <td>1.469958e+07</td>\n",
       "      <td>1.758779e+07</td>\n",
       "      <td>6.163408e+06</td>\n",
       "      <td>2.295846e+08</td>\n",
       "      <td>3.956300e+05</td>\n",
       "      <td>4.106926e+08</td>\n",
       "      <td>4.215763e+06</td>\n",
       "      <td>27883638.0</td>\n",
       "      <td>279807335.0</td>\n",
       "    </tr>\n",
       "    <tr>\n",
       "      <th>3</th>\n",
       "      <td>1.311448e+19</td>\n",
       "      <td>4/10/2019 0:31</td>\n",
       "      <td>486.0</td>\n",
       "      <td>4/25/2019 7:36</td>\n",
       "      <td>171.0</td>\n",
       "      <td>1321509.0</td>\n",
       "      <td>2.082014e+14</td>\n",
       "      <td>3.375034e+10</td>\n",
       "      <td>3.535661e+13</td>\n",
       "      <td>T21824A</td>\n",
       "      <td>...</td>\n",
       "      <td>2.138812e+07</td>\n",
       "      <td>1.514664e+07</td>\n",
       "      <td>1.399465e+07</td>\n",
       "      <td>1.097942e+06</td>\n",
       "      <td>7.995382e+08</td>\n",
       "      <td>1.084972e+07</td>\n",
       "      <td>7.490399e+08</td>\n",
       "      <td>1.279728e+07</td>\n",
       "      <td>43324218.0</td>\n",
       "      <td>846028530.0</td>\n",
       "    </tr>\n",
       "    <tr>\n",
       "      <th>4</th>\n",
       "      <td>1.311448e+19</td>\n",
       "      <td>4/12/2019 20:10</td>\n",
       "      <td>565.0</td>\n",
       "      <td>4/25/2019 10:40</td>\n",
       "      <td>954.0</td>\n",
       "      <td>1089009.0</td>\n",
       "      <td>2.082014e+14</td>\n",
       "      <td>3.369980e+10</td>\n",
       "      <td>3.540701e+13</td>\n",
       "      <td>D88865A</td>\n",
       "      <td>...</td>\n",
       "      <td>1.525938e+07</td>\n",
       "      <td>1.896287e+07</td>\n",
       "      <td>1.712458e+07</td>\n",
       "      <td>4.152180e+05</td>\n",
       "      <td>5.277072e+08</td>\n",
       "      <td>3.529801e+06</td>\n",
       "      <td>5.507095e+08</td>\n",
       "      <td>1.391032e+07</td>\n",
       "      <td>38542814.0</td>\n",
       "      <td>569138589.0</td>\n",
       "    </tr>\n",
       "    <tr>\n",
       "      <th>...</th>\n",
       "      <td>...</td>\n",
       "      <td>...</td>\n",
       "      <td>...</td>\n",
       "      <td>...</td>\n",
       "      <td>...</td>\n",
       "      <td>...</td>\n",
       "      <td>...</td>\n",
       "      <td>...</td>\n",
       "      <td>...</td>\n",
       "      <td>...</td>\n",
       "      <td>...</td>\n",
       "      <td>...</td>\n",
       "      <td>...</td>\n",
       "      <td>...</td>\n",
       "      <td>...</td>\n",
       "      <td>...</td>\n",
       "      <td>...</td>\n",
       "      <td>...</td>\n",
       "      <td>...</td>\n",
       "      <td>...</td>\n",
       "      <td>...</td>\n",
       "    </tr>\n",
       "    <tr>\n",
       "      <th>149996</th>\n",
       "      <td>7.277826e+18</td>\n",
       "      <td>4/29/2019 7:28</td>\n",
       "      <td>451.0</td>\n",
       "      <td>4/30/2019 6:02</td>\n",
       "      <td>214.0</td>\n",
       "      <td>81230.0</td>\n",
       "      <td>2.082022e+14</td>\n",
       "      <td>3.365069e+10</td>\n",
       "      <td>3.548311e+13</td>\n",
       "      <td>D20434A</td>\n",
       "      <td>...</td>\n",
       "      <td>1.619167e+07</td>\n",
       "      <td>1.176343e+07</td>\n",
       "      <td>1.788370e+07</td>\n",
       "      <td>1.967816e+07</td>\n",
       "      <td>5.266097e+08</td>\n",
       "      <td>9.197207e+06</td>\n",
       "      <td>3.264510e+06</td>\n",
       "      <td>1.348742e+07</td>\n",
       "      <td>57628851.0</td>\n",
       "      <td>574175259.0</td>\n",
       "    </tr>\n",
       "    <tr>\n",
       "      <th>149997</th>\n",
       "      <td>7.349883e+18</td>\n",
       "      <td>4/29/2019 7:28</td>\n",
       "      <td>483.0</td>\n",
       "      <td>4/30/2019 10:41</td>\n",
       "      <td>187.0</td>\n",
       "      <td>97970.0</td>\n",
       "      <td>2.082019e+14</td>\n",
       "      <td>3.366345e+10</td>\n",
       "      <td>3.566051e+13</td>\n",
       "      <td>D10223C</td>\n",
       "      <td>...</td>\n",
       "      <td>1.387723e+07</td>\n",
       "      <td>8.288284e+06</td>\n",
       "      <td>1.935015e+07</td>\n",
       "      <td>2.129315e+07</td>\n",
       "      <td>6.268931e+08</td>\n",
       "      <td>4.735033e+06</td>\n",
       "      <td>7.121804e+08</td>\n",
       "      <td>2.457758e+06</td>\n",
       "      <td>39135081.0</td>\n",
       "      <td>666648844.0</td>\n",
       "    </tr>\n",
       "    <tr>\n",
       "      <th>149998</th>\n",
       "      <td>1.311448e+19</td>\n",
       "      <td>4/29/2019 7:28</td>\n",
       "      <td>283.0</td>\n",
       "      <td>4/30/2019 10:46</td>\n",
       "      <td>810.0</td>\n",
       "      <td>98249.0</td>\n",
       "      <td>2.082017e+14</td>\n",
       "      <td>3.362189e+10</td>\n",
       "      <td>3.572121e+13</td>\n",
       "      <td>T51102A</td>\n",
       "      <td>...</td>\n",
       "      <td>2.266051e+07</td>\n",
       "      <td>1.855903e+06</td>\n",
       "      <td>9.963942e+06</td>\n",
       "      <td>5.065760e+06</td>\n",
       "      <td>5.535395e+08</td>\n",
       "      <td>1.339432e+07</td>\n",
       "      <td>1.211009e+08</td>\n",
       "      <td>1.131473e+07</td>\n",
       "      <td>34912224.0</td>\n",
       "      <td>592786405.0</td>\n",
       "    </tr>\n",
       "    <tr>\n",
       "      <th>149999</th>\n",
       "      <td>1.311448e+19</td>\n",
       "      <td>4/29/2019 7:28</td>\n",
       "      <td>696.0</td>\n",
       "      <td>4/30/2019 10:40</td>\n",
       "      <td>327.0</td>\n",
       "      <td>97910.0</td>\n",
       "      <td>2.082021e+14</td>\n",
       "      <td>3.361962e+10</td>\n",
       "      <td>8.618620e+13</td>\n",
       "      <td>L88342B</td>\n",
       "      <td>...</td>\n",
       "      <td>8.817106e+06</td>\n",
       "      <td>8.305402e+06</td>\n",
       "      <td>3.322253e+06</td>\n",
       "      <td>1.317259e+07</td>\n",
       "      <td>3.525370e+08</td>\n",
       "      <td>2.529475e+06</td>\n",
       "      <td>8.147131e+08</td>\n",
       "      <td>1.406930e+06</td>\n",
       "      <td>29626096.0</td>\n",
       "      <td>371895920.0</td>\n",
       "    </tr>\n",
       "    <tr>\n",
       "      <th>150000</th>\n",
       "      <td>NaN</td>\n",
       "      <td>None</td>\n",
       "      <td>NaN</td>\n",
       "      <td>None</td>\n",
       "      <td>NaN</td>\n",
       "      <td>NaN</td>\n",
       "      <td>NaN</td>\n",
       "      <td>NaN</td>\n",
       "      <td>NaN</td>\n",
       "      <td>None</td>\n",
       "      <td>...</td>\n",
       "      <td>1.163407e+07</td>\n",
       "      <td>1.100941e+07</td>\n",
       "      <td>1.162685e+07</td>\n",
       "      <td>1.100175e+07</td>\n",
       "      <td>4.220447e+08</td>\n",
       "      <td>8.288398e+06</td>\n",
       "      <td>4.211005e+08</td>\n",
       "      <td>8.264799e+06</td>\n",
       "      <td>NaN</td>\n",
       "      <td>NaN</td>\n",
       "    </tr>\n",
       "  </tbody>\n",
       "</table>\n",
       "<p>150001 rows × 55 columns</p>\n",
       "</div>"
      ],
      "text/plain": [
       "           Bearer Id            Start  Start ms              End  End ms  \\\n",
       "0       1.311448e+19   4/4/2019 12:01     770.0  4/25/2019 14:35   662.0   \n",
       "1       1.311448e+19   4/9/2019 13:04     235.0   4/25/2019 8:15   606.0   \n",
       "2       1.311448e+19   4/9/2019 17:42       1.0  4/25/2019 11:58   652.0   \n",
       "3       1.311448e+19   4/10/2019 0:31     486.0   4/25/2019 7:36   171.0   \n",
       "4       1.311448e+19  4/12/2019 20:10     565.0  4/25/2019 10:40   954.0   \n",
       "...              ...              ...       ...              ...     ...   \n",
       "149996  7.277826e+18   4/29/2019 7:28     451.0   4/30/2019 6:02   214.0   \n",
       "149997  7.349883e+18   4/29/2019 7:28     483.0  4/30/2019 10:41   187.0   \n",
       "149998  1.311448e+19   4/29/2019 7:28     283.0  4/30/2019 10:46   810.0   \n",
       "149999  1.311448e+19   4/29/2019 7:28     696.0  4/30/2019 10:40   327.0   \n",
       "150000           NaN             None       NaN             None     NaN   \n",
       "\n",
       "        Dur. (ms)          IMSI  MSISDN/Number          IMEI  \\\n",
       "0       1823652.0  2.082014e+14   3.366496e+10  3.552121e+13   \n",
       "1       1365104.0  2.082019e+14   3.368185e+10  3.579401e+13   \n",
       "2       1361762.0  2.082003e+14   3.376063e+10  3.528151e+13   \n",
       "3       1321509.0  2.082014e+14   3.375034e+10  3.535661e+13   \n",
       "4       1089009.0  2.082014e+14   3.369980e+10  3.540701e+13   \n",
       "...           ...           ...            ...           ...   \n",
       "149996    81230.0  2.082022e+14   3.365069e+10  3.548311e+13   \n",
       "149997    97970.0  2.082019e+14   3.366345e+10  3.566051e+13   \n",
       "149998    98249.0  2.082017e+14   3.362189e+10  3.572121e+13   \n",
       "149999    97910.0  2.082021e+14   3.361962e+10  8.618620e+13   \n",
       "150000        NaN           NaN            NaN           NaN   \n",
       "\n",
       "           Last Location Name  ...  Youtube DL (Bytes)  Youtube UL (Bytes)  \\\n",
       "0       9.16456699548519E+015  ...        1.585461e+07        2.501332e+06   \n",
       "1                     L77566A  ...        2.024740e+07        1.911173e+07   \n",
       "2                     D42335A  ...        1.972566e+07        1.469958e+07   \n",
       "3                     T21824A  ...        2.138812e+07        1.514664e+07   \n",
       "4                     D88865A  ...        1.525938e+07        1.896287e+07   \n",
       "...                       ...  ...                 ...                 ...   \n",
       "149996                D20434A  ...        1.619167e+07        1.176343e+07   \n",
       "149997                D10223C  ...        1.387723e+07        8.288284e+06   \n",
       "149998                T51102A  ...        2.266051e+07        1.855903e+06   \n",
       "149999                L88342B  ...        8.817106e+06        8.305402e+06   \n",
       "150000                   None  ...        1.163407e+07        1.100941e+07   \n",
       "\n",
       "        Netflix DL (Bytes)  Netflix UL (Bytes)  Gaming DL (Bytes)  \\\n",
       "0             8.198936e+06        9.656251e+06       2.780823e+08   \n",
       "1             1.833841e+07        1.722713e+07       6.087501e+08   \n",
       "2             1.758779e+07        6.163408e+06       2.295846e+08   \n",
       "3             1.399465e+07        1.097942e+06       7.995382e+08   \n",
       "4             1.712458e+07        4.152180e+05       5.277072e+08   \n",
       "...                    ...                 ...                ...   \n",
       "149996        1.788370e+07        1.967816e+07       5.266097e+08   \n",
       "149997        1.935015e+07        2.129315e+07       6.268931e+08   \n",
       "149998        9.963942e+06        5.065760e+06       5.535395e+08   \n",
       "149999        3.322253e+06        1.317259e+07       3.525370e+08   \n",
       "150000        1.162685e+07        1.100175e+07       4.220447e+08   \n",
       "\n",
       "        Gaming UL (Bytes)  Other DL (Bytes)  Other UL (Bytes)  \\\n",
       "0            1.434415e+07      1.717444e+08      8.814393e+06   \n",
       "1            1.170709e+06      5.269042e+08      1.505514e+07   \n",
       "2            3.956300e+05      4.106926e+08      4.215763e+06   \n",
       "3            1.084972e+07      7.490399e+08      1.279728e+07   \n",
       "4            3.529801e+06      5.507095e+08      1.391032e+07   \n",
       "...                   ...               ...               ...   \n",
       "149996       9.197207e+06      3.264510e+06      1.348742e+07   \n",
       "149997       4.735033e+06      7.121804e+08      2.457758e+06   \n",
       "149998       1.339432e+07      1.211009e+08      1.131473e+07   \n",
       "149999       2.529475e+06      8.147131e+08      1.406930e+06   \n",
       "150000       8.288398e+06      4.211005e+08      8.264799e+06   \n",
       "\n",
       "        Total UL (Bytes)  Total DL (Bytes)  \n",
       "0             36749741.0       308879636.0  \n",
       "1             53800391.0       653384965.0  \n",
       "2             27883638.0       279807335.0  \n",
       "3             43324218.0       846028530.0  \n",
       "4             38542814.0       569138589.0  \n",
       "...                  ...               ...  \n",
       "149996        57628851.0       574175259.0  \n",
       "149997        39135081.0       666648844.0  \n",
       "149998        34912224.0       592786405.0  \n",
       "149999        29626096.0       371895920.0  \n",
       "150000               NaN               NaN  \n",
       "\n",
       "[150001 rows x 55 columns]"
      ]
     },
     "execution_count": 4,
     "metadata": {},
     "output_type": "execute_result"
    }
   ],
   "source": [
    "# Execute the SQL query and fetch the results into a DataFrame\n",
    "df = pd.read_sql_query(sql_query, conn)\n",
    "df\n"
   ]
  },
  {
   "cell_type": "code",
   "execution_count": 5,
   "metadata": {},
   "outputs": [
    {
     "data": {
      "text/plain": [
       "(150001, 55)"
      ]
     },
     "execution_count": 5,
     "metadata": {},
     "output_type": "execute_result"
    }
   ],
   "source": [
    "df.shape"
   ]
  },
  {
   "cell_type": "code",
   "execution_count": 6,
   "metadata": {},
   "outputs": [
    {
     "data": {
      "text/plain": [
       "['Bearer Id',\n",
       " 'Start',\n",
       " 'Start ms',\n",
       " 'End',\n",
       " 'End ms',\n",
       " 'Dur. (ms)',\n",
       " 'IMSI',\n",
       " 'MSISDN/Number',\n",
       " 'IMEI',\n",
       " 'Last Location Name',\n",
       " 'Avg RTT DL (ms)',\n",
       " 'Avg RTT UL (ms)',\n",
       " 'Avg Bearer TP DL (kbps)',\n",
       " 'Avg Bearer TP UL (kbps)',\n",
       " 'TCP DL Retrans. Vol (Bytes)',\n",
       " 'TCP UL Retrans. Vol (Bytes)',\n",
       " 'DL TP < 50 Kbps (%)',\n",
       " '50 Kbps < DL TP < 250 Kbps (%)',\n",
       " '250 Kbps < DL TP < 1 Mbps (%)',\n",
       " 'DL TP > 1 Mbps (%)',\n",
       " 'UL TP < 10 Kbps (%)',\n",
       " '10 Kbps < UL TP < 50 Kbps (%)',\n",
       " '50 Kbps < UL TP < 300 Kbps (%)',\n",
       " 'UL TP > 300 Kbps (%)',\n",
       " 'HTTP DL (Bytes)',\n",
       " 'HTTP UL (Bytes)',\n",
       " 'Activity Duration DL (ms)',\n",
       " 'Activity Duration UL (ms)',\n",
       " 'Dur. (ms).1',\n",
       " 'Handset Manufacturer',\n",
       " 'Handset Type',\n",
       " 'Nb of sec with 125000B < Vol DL',\n",
       " 'Nb of sec with 1250B < Vol UL < 6250B',\n",
       " 'Nb of sec with 31250B < Vol DL < 125000B',\n",
       " 'Nb of sec with 37500B < Vol UL',\n",
       " 'Nb of sec with 6250B < Vol DL < 31250B',\n",
       " 'Nb of sec with 6250B < Vol UL < 37500B',\n",
       " 'Nb of sec with Vol DL < 6250B',\n",
       " 'Nb of sec with Vol UL < 1250B',\n",
       " 'Social Media DL (Bytes)',\n",
       " 'Social Media UL (Bytes)',\n",
       " 'Google DL (Bytes)',\n",
       " 'Google UL (Bytes)',\n",
       " 'Email DL (Bytes)',\n",
       " 'Email UL (Bytes)',\n",
       " 'Youtube DL (Bytes)',\n",
       " 'Youtube UL (Bytes)',\n",
       " 'Netflix DL (Bytes)',\n",
       " 'Netflix UL (Bytes)',\n",
       " 'Gaming DL (Bytes)',\n",
       " 'Gaming UL (Bytes)',\n",
       " 'Other DL (Bytes)',\n",
       " 'Other UL (Bytes)',\n",
       " 'Total UL (Bytes)',\n",
       " 'Total DL (Bytes)']"
      ]
     },
     "execution_count": 6,
     "metadata": {},
     "output_type": "execute_result"
    }
   ],
   "source": [
    "df.columns.tolist()\n",
    "\n"
   ]
  },
  {
   "cell_type": "code",
   "execution_count": 7,
   "metadata": {},
   "outputs": [
    {
     "name": "stdout",
     "output_type": "stream",
     "text": [
      "<class 'pandas.core.frame.DataFrame'>\n",
      "RangeIndex: 150001 entries, 0 to 150000\n",
      "Data columns (total 55 columns):\n",
      " #   Column                                    Non-Null Count   Dtype  \n",
      "---  ------                                    --------------   -----  \n",
      " 0   Bearer Id                                 149010 non-null  float64\n",
      " 1   Start                                     150000 non-null  object \n",
      " 2   Start ms                                  150000 non-null  float64\n",
      " 3   End                                       150000 non-null  object \n",
      " 4   End ms                                    150000 non-null  float64\n",
      " 5   Dur. (ms)                                 150000 non-null  float64\n",
      " 6   IMSI                                      149431 non-null  float64\n",
      " 7   MSISDN/Number                             148935 non-null  float64\n",
      " 8   IMEI                                      149429 non-null  float64\n",
      " 9   Last Location Name                        148848 non-null  object \n",
      " 10  Avg RTT DL (ms)                           122172 non-null  float64\n",
      " 11  Avg RTT UL (ms)                           122189 non-null  float64\n",
      " 12  Avg Bearer TP DL (kbps)                   150000 non-null  float64\n",
      " 13  Avg Bearer TP UL (kbps)                   150000 non-null  float64\n",
      " 14  TCP DL Retrans. Vol (Bytes)               61855 non-null   float64\n",
      " 15  TCP UL Retrans. Vol (Bytes)               53352 non-null   float64\n",
      " 16  DL TP < 50 Kbps (%)                       149247 non-null  float64\n",
      " 17  50 Kbps < DL TP < 250 Kbps (%)            149247 non-null  float64\n",
      " 18  250 Kbps < DL TP < 1 Mbps (%)             149247 non-null  float64\n",
      " 19  DL TP > 1 Mbps (%)                        149247 non-null  float64\n",
      " 20  UL TP < 10 Kbps (%)                       149209 non-null  float64\n",
      " 21  10 Kbps < UL TP < 50 Kbps (%)             149209 non-null  float64\n",
      " 22  50 Kbps < UL TP < 300 Kbps (%)            149209 non-null  float64\n",
      " 23  UL TP > 300 Kbps (%)                      149209 non-null  float64\n",
      " 24  HTTP DL (Bytes)                           68527 non-null   float64\n",
      " 25  HTTP UL (Bytes)                           68191 non-null   float64\n",
      " 26  Activity Duration DL (ms)                 150000 non-null  float64\n",
      " 27  Activity Duration UL (ms)                 150000 non-null  float64\n",
      " 28  Dur. (ms).1                               150000 non-null  float64\n",
      " 29  Handset Manufacturer                      149429 non-null  object \n",
      " 30  Handset Type                              149429 non-null  object \n",
      " 31  Nb of sec with 125000B < Vol DL           52463 non-null   float64\n",
      " 32  Nb of sec with 1250B < Vol UL < 6250B     57107 non-null   float64\n",
      " 33  Nb of sec with 31250B < Vol DL < 125000B  56415 non-null   float64\n",
      " 34  Nb of sec with 37500B < Vol UL            19747 non-null   float64\n",
      " 35  Nb of sec with 6250B < Vol DL < 31250B    61684 non-null   float64\n",
      " 36  Nb of sec with 6250B < Vol UL < 37500B    38158 non-null   float64\n",
      " 37  Nb of sec with Vol DL < 6250B             149246 non-null  float64\n",
      " 38  Nb of sec with Vol UL < 1250B             149208 non-null  float64\n",
      " 39  Social Media DL (Bytes)                   150001 non-null  float64\n",
      " 40  Social Media UL (Bytes)                   150001 non-null  float64\n",
      " 41  Google DL (Bytes)                         150001 non-null  float64\n",
      " 42  Google UL (Bytes)                         150001 non-null  float64\n",
      " 43  Email DL (Bytes)                          150001 non-null  float64\n",
      " 44  Email UL (Bytes)                          150001 non-null  float64\n",
      " 45  Youtube DL (Bytes)                        150001 non-null  float64\n",
      " 46  Youtube UL (Bytes)                        150001 non-null  float64\n",
      " 47  Netflix DL (Bytes)                        150001 non-null  float64\n",
      " 48  Netflix UL (Bytes)                        150001 non-null  float64\n",
      " 49  Gaming DL (Bytes)                         150001 non-null  float64\n",
      " 50  Gaming UL (Bytes)                         150001 non-null  float64\n",
      " 51  Other DL (Bytes)                          150001 non-null  float64\n",
      " 52  Other UL (Bytes)                          150001 non-null  float64\n",
      " 53  Total UL (Bytes)                          150000 non-null  float64\n",
      " 54  Total DL (Bytes)                          150000 non-null  float64\n",
      "dtypes: float64(50), object(5)\n",
      "memory usage: 62.9+ MB\n"
     ]
    }
   ],
   "source": [
    "df.info()"
   ]
  },
  {
   "cell_type": "code",
   "execution_count": 8,
   "metadata": {},
   "outputs": [
    {
     "data": {
      "text/plain": [
       "Bearer Id                                    0.660662\n",
       "Start                                        0.000667\n",
       "Start ms                                     0.000667\n",
       "End                                          0.000667\n",
       "End ms                                       0.000667\n",
       "Dur. (ms)                                    0.000667\n",
       "IMSI                                         0.379997\n",
       "MSISDN/Number                                0.710662\n",
       "IMEI                                         0.381331\n",
       "Last Location Name                           0.768662\n",
       "Avg RTT DL (ms)                             18.552543\n",
       "Avg RTT UL (ms)                             18.541210\n",
       "Avg Bearer TP DL (kbps)                      0.000667\n",
       "Avg Bearer TP UL (kbps)                      0.000667\n",
       "TCP DL Retrans. Vol (Bytes)                 58.763608\n",
       "TCP UL Retrans. Vol (Bytes)                 64.432237\n",
       "DL TP < 50 Kbps (%)                          0.502663\n",
       "50 Kbps < DL TP < 250 Kbps (%)               0.502663\n",
       "250 Kbps < DL TP < 1 Mbps (%)                0.502663\n",
       "DL TP > 1 Mbps (%)                           0.502663\n",
       "UL TP < 10 Kbps (%)                          0.527996\n",
       "10 Kbps < UL TP < 50 Kbps (%)                0.527996\n",
       "50 Kbps < UL TP < 300 Kbps (%)               0.527996\n",
       "UL TP > 300 Kbps (%)                         0.527996\n",
       "HTTP DL (Bytes)                             54.315638\n",
       "HTTP UL (Bytes)                             54.539636\n",
       "Activity Duration DL (ms)                    0.000667\n",
       "Activity Duration UL (ms)                    0.000667\n",
       "Dur. (ms).1                                  0.000667\n",
       "Handset Manufacturer                         0.381331\n",
       "Handset Type                                 0.381331\n",
       "Nb of sec with 125000B < Vol DL             65.024900\n",
       "Nb of sec with 1250B < Vol UL < 6250B       61.928920\n",
       "Nb of sec with 31250B < Vol DL < 125000B    62.390251\n",
       "Nb of sec with 37500B < Vol UL              86.835421\n",
       "Nb of sec with 6250B < Vol DL < 31250B      58.877607\n",
       "Nb of sec with 6250B < Vol UL < 37500B      74.561503\n",
       "Nb of sec with Vol DL < 6250B                0.503330\n",
       "Nb of sec with Vol UL < 1250B                0.528663\n",
       "Social Media DL (Bytes)                      0.000000\n",
       "Social Media UL (Bytes)                      0.000000\n",
       "Google DL (Bytes)                            0.000000\n",
       "Google UL (Bytes)                            0.000000\n",
       "Email DL (Bytes)                             0.000000\n",
       "Email UL (Bytes)                             0.000000\n",
       "Youtube DL (Bytes)                           0.000000\n",
       "Youtube UL (Bytes)                           0.000000\n",
       "Netflix DL (Bytes)                           0.000000\n",
       "Netflix UL (Bytes)                           0.000000\n",
       "Gaming DL (Bytes)                            0.000000\n",
       "Gaming UL (Bytes)                            0.000000\n",
       "Other DL (Bytes)                             0.000000\n",
       "Other UL (Bytes)                             0.000000\n",
       "Total UL (Bytes)                             0.000667\n",
       "Total DL (Bytes)                             0.000667\n",
       "dtype: float64"
      ]
     },
     "execution_count": 8,
     "metadata": {},
     "output_type": "execute_result"
    }
   ],
   "source": [
    "# Calculate the percentage of null values in each column\n",
    "null_percentage = df.isnull().mean() * 100\n",
    "\n",
    "# Display the null percentage for each column\n",
    "null_percentage\n"
   ]
  },
  {
   "cell_type": "code",
   "execution_count": 9,
   "metadata": {},
   "outputs": [
    {
     "data": {
      "text/plain": [
       "(150001, 55)"
      ]
     },
     "execution_count": 9,
     "metadata": {},
     "output_type": "execute_result"
    }
   ],
   "source": [
    "df.shape"
   ]
  },
  {
   "cell_type": "code",
   "execution_count": 10,
   "metadata": {},
   "outputs": [
    {
     "data": {
      "text/plain": [
       "Bearer Id                                      991\n",
       "Start                                            1\n",
       "Start ms                                         1\n",
       "End                                              1\n",
       "End ms                                           1\n",
       "Dur. (ms)                                        1\n",
       "IMSI                                           570\n",
       "MSISDN/Number                                 1066\n",
       "IMEI                                           572\n",
       "Last Location Name                            1153\n",
       "Avg RTT DL (ms)                              27829\n",
       "Avg RTT UL (ms)                              27812\n",
       "Avg Bearer TP DL (kbps)                          1\n",
       "Avg Bearer TP UL (kbps)                          1\n",
       "TCP DL Retrans. Vol (Bytes)                  88146\n",
       "TCP UL Retrans. Vol (Bytes)                  96649\n",
       "DL TP < 50 Kbps (%)                            754\n",
       "50 Kbps < DL TP < 250 Kbps (%)                 754\n",
       "250 Kbps < DL TP < 1 Mbps (%)                  754\n",
       "DL TP > 1 Mbps (%)                             754\n",
       "UL TP < 10 Kbps (%)                            792\n",
       "10 Kbps < UL TP < 50 Kbps (%)                  792\n",
       "50 Kbps < UL TP < 300 Kbps (%)                 792\n",
       "UL TP > 300 Kbps (%)                           792\n",
       "HTTP DL (Bytes)                              81474\n",
       "HTTP UL (Bytes)                              81810\n",
       "Activity Duration DL (ms)                        1\n",
       "Activity Duration UL (ms)                        1\n",
       "Dur. (ms).1                                      1\n",
       "Handset Manufacturer                           572\n",
       "Handset Type                                   572\n",
       "Nb of sec with 125000B < Vol DL              97538\n",
       "Nb of sec with 1250B < Vol UL < 6250B        92894\n",
       "Nb of sec with 31250B < Vol DL < 125000B     93586\n",
       "Nb of sec with 37500B < Vol UL              130254\n",
       "Nb of sec with 6250B < Vol DL < 31250B       88317\n",
       "Nb of sec with 6250B < Vol UL < 37500B      111843\n",
       "Nb of sec with Vol DL < 6250B                  755\n",
       "Nb of sec with Vol UL < 1250B                  793\n",
       "Social Media DL (Bytes)                          0\n",
       "Social Media UL (Bytes)                          0\n",
       "Google DL (Bytes)                                0\n",
       "Google UL (Bytes)                                0\n",
       "Email DL (Bytes)                                 0\n",
       "Email UL (Bytes)                                 0\n",
       "Youtube DL (Bytes)                               0\n",
       "Youtube UL (Bytes)                               0\n",
       "Netflix DL (Bytes)                               0\n",
       "Netflix UL (Bytes)                               0\n",
       "Gaming DL (Bytes)                                0\n",
       "Gaming UL (Bytes)                                0\n",
       "Other DL (Bytes)                                 0\n",
       "Other UL (Bytes)                                 0\n",
       "Total UL (Bytes)                                 1\n",
       "Total DL (Bytes)                                 1\n",
       "dtype: int64"
      ]
     },
     "execution_count": 10,
     "metadata": {},
     "output_type": "execute_result"
    }
   ],
   "source": [
    "missingCount = df.isnull().sum()\n",
    "missingCount\n",
    "\n"
   ]
  },
  {
   "cell_type": "code",
   "execution_count": 11,
   "metadata": {},
   "outputs": [
    {
     "data": {
      "text/plain": [
       "0"
      ]
     },
     "execution_count": 11,
     "metadata": {},
     "output_type": "execute_result"
    }
   ],
   "source": [
    "df.duplicated().sum()"
   ]
  },
  {
   "cell_type": "code",
   "execution_count": 12,
   "metadata": {},
   "outputs": [
    {
     "data": {
      "text/plain": [
       "(150001, 55)"
      ]
     },
     "execution_count": 12,
     "metadata": {},
     "output_type": "execute_result"
    }
   ],
   "source": [
    "df.shape"
   ]
  },
  {
   "cell_type": "code",
   "execution_count": 13,
   "metadata": {},
   "outputs": [
    {
     "name": "stdout",
     "output_type": "stream",
     "text": [
      "The Telecom Data contains 12.5 % missing values.\n"
     ]
    },
    {
     "name": "stderr",
     "output_type": "stream",
     "text": [
      "C:\\Users\\Nole\\AppData\\Local\\Temp\\ipykernel_22880\\1710861280.py:15: DeprecationWarning: `product` is deprecated as of NumPy 1.25.0, and will be removed in NumPy 2.0. Please use `prod` instead.\n",
      "  percent_missing(df)\n"
     ]
    }
   ],
   "source": [
    "def percent_missing(df):\n",
    "\n",
    "    # Calculate total number of cells in dataframe\n",
    "    totalCells = np.product(df.shape)\n",
    "\n",
    "    # Count number of missing values per column\n",
    "    missingCount = df.isnull().sum()\n",
    "\n",
    "    # Calculate total number of missing values\n",
    "    totalMissing = missingCount.sum()\n",
    "\n",
    "    # Calculate percentage of missing values\n",
    "    print(\"The Telecom Data contains\", round(((totalMissing/totalCells) * 100), 2), \"%\", \"missing values.\")\n",
    "\n",
    "percent_missing(df)"
   ]
  },
  {
   "cell_type": "code",
   "execution_count": 14,
   "metadata": {},
   "outputs": [
    {
     "data": {
      "text/plain": [
       "(150001, 55)"
      ]
     },
     "execution_count": 14,
     "metadata": {},
     "output_type": "execute_result"
    }
   ],
   "source": [
    "df.shape"
   ]
  },
  {
   "cell_type": "code",
   "execution_count": 15,
   "metadata": {},
   "outputs": [],
   "source": [
    "df = df.drop(df.columns[31:37].tolist() + ['HTTP DL (Bytes)', 'HTTP UL (Bytes)'], axis=1)\n",
    "\n"
   ]
  },
  {
   "cell_type": "code",
   "execution_count": 16,
   "metadata": {},
   "outputs": [
    {
     "data": {
      "text/plain": [
       "(150001, 47)"
      ]
     },
     "execution_count": 16,
     "metadata": {},
     "output_type": "execute_result"
    }
   ],
   "source": [
    "df.shape"
   ]
  },
  {
   "cell_type": "code",
   "execution_count": 17,
   "metadata": {},
   "outputs": [
    {
     "data": {
      "text/plain": [
       "Bearer Id                           991\n",
       "Start                                 1\n",
       "Start ms                              1\n",
       "End                                   1\n",
       "End ms                                1\n",
       "Dur. (ms)                             1\n",
       "IMSI                                570\n",
       "MSISDN/Number                      1066\n",
       "IMEI                                572\n",
       "Last Location Name                 1153\n",
       "Avg RTT DL (ms)                   27829\n",
       "Avg RTT UL (ms)                   27812\n",
       "Avg Bearer TP DL (kbps)               1\n",
       "Avg Bearer TP UL (kbps)               1\n",
       "TCP DL Retrans. Vol (Bytes)       88146\n",
       "TCP UL Retrans. Vol (Bytes)       96649\n",
       "DL TP < 50 Kbps (%)                 754\n",
       "50 Kbps < DL TP < 250 Kbps (%)      754\n",
       "250 Kbps < DL TP < 1 Mbps (%)       754\n",
       "DL TP > 1 Mbps (%)                  754\n",
       "UL TP < 10 Kbps (%)                 792\n",
       "10 Kbps < UL TP < 50 Kbps (%)       792\n",
       "50 Kbps < UL TP < 300 Kbps (%)      792\n",
       "UL TP > 300 Kbps (%)                792\n",
       "Activity Duration DL (ms)             1\n",
       "Activity Duration UL (ms)             1\n",
       "Dur. (ms).1                           1\n",
       "Handset Manufacturer                572\n",
       "Handset Type                        572\n",
       "Nb of sec with Vol DL < 6250B       755\n",
       "Nb of sec with Vol UL < 1250B       793\n",
       "Social Media DL (Bytes)               0\n",
       "Social Media UL (Bytes)               0\n",
       "Google DL (Bytes)                     0\n",
       "Google UL (Bytes)                     0\n",
       "Email DL (Bytes)                      0\n",
       "Email UL (Bytes)                      0\n",
       "Youtube DL (Bytes)                    0\n",
       "Youtube UL (Bytes)                    0\n",
       "Netflix DL (Bytes)                    0\n",
       "Netflix UL (Bytes)                    0\n",
       "Gaming DL (Bytes)                     0\n",
       "Gaming UL (Bytes)                     0\n",
       "Other DL (Bytes)                      0\n",
       "Other UL (Bytes)                      0\n",
       "Total UL (Bytes)                      1\n",
       "Total DL (Bytes)                      1\n",
       "dtype: int64"
      ]
     },
     "execution_count": 17,
     "metadata": {},
     "output_type": "execute_result"
    }
   ],
   "source": [
    "missingCount = df.isnull().sum()\n",
    "missingCount"
   ]
  },
  {
   "cell_type": "code",
   "execution_count": 18,
   "metadata": {},
   "outputs": [
    {
     "data": {
      "text/plain": [
       "Bearer Id                          0.660662\n",
       "Start                              0.000667\n",
       "Start ms                           0.000667\n",
       "End                                0.000667\n",
       "End ms                             0.000667\n",
       "Dur. (ms)                          0.000667\n",
       "IMSI                               0.379997\n",
       "MSISDN/Number                      0.710662\n",
       "IMEI                               0.381331\n",
       "Last Location Name                 0.768662\n",
       "Avg RTT DL (ms)                   18.552543\n",
       "Avg RTT UL (ms)                   18.541210\n",
       "Avg Bearer TP DL (kbps)            0.000667\n",
       "Avg Bearer TP UL (kbps)            0.000667\n",
       "TCP DL Retrans. Vol (Bytes)       58.763608\n",
       "TCP UL Retrans. Vol (Bytes)       64.432237\n",
       "DL TP < 50 Kbps (%)                0.502663\n",
       "50 Kbps < DL TP < 250 Kbps (%)     0.502663\n",
       "250 Kbps < DL TP < 1 Mbps (%)      0.502663\n",
       "DL TP > 1 Mbps (%)                 0.502663\n",
       "UL TP < 10 Kbps (%)                0.527996\n",
       "10 Kbps < UL TP < 50 Kbps (%)      0.527996\n",
       "50 Kbps < UL TP < 300 Kbps (%)     0.527996\n",
       "UL TP > 300 Kbps (%)               0.527996\n",
       "Activity Duration DL (ms)          0.000667\n",
       "Activity Duration UL (ms)          0.000667\n",
       "Dur. (ms).1                        0.000667\n",
       "Handset Manufacturer               0.381331\n",
       "Handset Type                       0.381331\n",
       "Nb of sec with Vol DL < 6250B      0.503330\n",
       "Nb of sec with Vol UL < 1250B      0.528663\n",
       "Social Media DL (Bytes)            0.000000\n",
       "Social Media UL (Bytes)            0.000000\n",
       "Google DL (Bytes)                  0.000000\n",
       "Google UL (Bytes)                  0.000000\n",
       "Email DL (Bytes)                   0.000000\n",
       "Email UL (Bytes)                   0.000000\n",
       "Youtube DL (Bytes)                 0.000000\n",
       "Youtube UL (Bytes)                 0.000000\n",
       "Netflix DL (Bytes)                 0.000000\n",
       "Netflix UL (Bytes)                 0.000000\n",
       "Gaming DL (Bytes)                  0.000000\n",
       "Gaming UL (Bytes)                  0.000000\n",
       "Other DL (Bytes)                   0.000000\n",
       "Other UL (Bytes)                   0.000000\n",
       "Total UL (Bytes)                   0.000667\n",
       "Total DL (Bytes)                   0.000667\n",
       "dtype: float64"
      ]
     },
     "execution_count": 18,
     "metadata": {},
     "output_type": "execute_result"
    }
   ],
   "source": [
    "# Calculate the percentage of null values in each column\n",
    "null_percentage = df.isnull().mean() * 100\n",
    "\n",
    "# Display the null percentage for each column\n",
    "null_percentage\n"
   ]
  },
  {
   "cell_type": "code",
   "execution_count": 19,
   "metadata": {},
   "outputs": [
    {
     "data": {
      "text/plain": [
       "(150001, 47)"
      ]
     },
     "execution_count": 19,
     "metadata": {},
     "output_type": "execute_result"
    }
   ],
   "source": [
    "df.shape"
   ]
  },
  {
   "cell_type": "code",
   "execution_count": 20,
   "metadata": {},
   "outputs": [
    {
     "data": {
      "text/plain": [
       "(150001, 47)"
      ]
     },
     "execution_count": 20,
     "metadata": {},
     "output_type": "execute_result"
    }
   ],
   "source": [
    "df.shape"
   ]
  },
  {
   "cell_type": "code",
   "execution_count": 21,
   "metadata": {},
   "outputs": [
    {
     "data": {
      "image/png": "[encoded data removed]",
      "text/plain": [
       "<Figure size 800x600 with 1 Axes>"
      ]
     },
     "metadata": {},
     "output_type": "display_data"
    }
   ],
   "source": [
    "# Select the \"Avg RTT DL (ms)\" column\n",
    "avg_rtt_dl_data = df['Avg RTT DL (ms)']\n",
    "\n",
    "# Create a box plot to visualize the dispersion of the data\n",
    "plt.figure(figsize=(8, 6))\n",
    "avg_rtt_dl_data.plot(kind='box', vert=False, widths=0.7, patch_artist=True, flierprops=dict(marker='o', markerfacecolor='r', markersize=8, linestyle='none'))\n",
    "\n",
    "# Add a title and labels\n",
    "plt.title('Dispersion of Avg RTT DL (ms)')\n",
    "plt.xlabel('Avg RTT DL (ms)')\n",
    "plt.show()\n"
   ]
  },
  {
   "cell_type": "code",
   "execution_count": 22,
   "metadata": {},
   "outputs": [
    {
     "name": "stderr",
     "output_type": "stream",
     "text": [
      "C:\\Users\\Nole\\AppData\\Local\\Temp\\ipykernel_22880\\4094211614.py:1: FutureWarning: Series.fillna with 'method' is deprecated and will raise in a future version. Use obj.ffill() or obj.bfill() instead.\n",
      "  df['Avg RTT DL (ms)'].fillna(method='ffill', inplace=True)\n"
     ]
    }
   ],
   "source": [
    "df['Avg RTT DL (ms)'].fillna(method='ffill', inplace=True)\n"
   ]
  },
  {
   "cell_type": "code",
   "execution_count": 23,
   "metadata": {},
   "outputs": [
    {
     "data": {
      "image/png": "[encoded data removed]",
      "text/plain": [
       "<Figure size 800x600 with 1 Axes>"
      ]
     },
     "metadata": {},
     "output_type": "display_data"
    }
   ],
   "source": [
    "# Select the \"Avg RTT DL (ms)\" column\n",
    "avg_rtt_dl_data = df['Avg RTT UL (ms)']\n",
    "\n",
    "# Create a box plot to visualize the dispersion of the data\n",
    "plt.figure(figsize=(8, 6))\n",
    "avg_rtt_dl_data.plot(kind='box', vert=False, widths=0.7, patch_artist=True, flierprops=dict(marker='o', markerfacecolor='r', markersize=8, linestyle='none'))\n",
    "\n",
    "# Add a title and labels\n",
    "plt.title('Dispersion of Avg RTT UL (ms)')\n",
    "plt.xlabel('Avg RTT UL (ms)')\n",
    "plt.show()\n"
   ]
  },
  {
   "cell_type": "code",
   "execution_count": 24,
   "metadata": {},
   "outputs": [
    {
     "name": "stderr",
     "output_type": "stream",
     "text": [
      "C:\\Users\\Nole\\AppData\\Local\\Temp\\ipykernel_22880\\2196176513.py:2: FutureWarning: Series.fillna with 'method' is deprecated and will raise in a future version. Use obj.ffill() or obj.bfill() instead.\n",
      "  df['Avg RTT UL (ms)'].fillna(method='bfill', inplace=True)\n"
     ]
    }
   ],
   "source": [
    "# Fill the null values with the backward fill method \n",
    "df['Avg RTT UL (ms)'].fillna(method='bfill', inplace=True)\n"
   ]
  },
  {
   "cell_type": "code",
   "execution_count": 25,
   "metadata": {},
   "outputs": [
    {
     "name": "stdout",
     "output_type": "stream",
     "text": [
      "Number of missing values in 'Avg RTT DL (ms)': 0\n"
     ]
    }
   ],
   "source": [
    "# Check for missing values in the \"Avg RTT DL (ms)\" column\n",
    "missing_values = df['Avg RTT DL (ms)'].isnull().sum()\n",
    "print(\"Number of missing values in 'Avg RTT DL (ms)':\", missing_values)\n"
   ]
  },
  {
   "cell_type": "code",
   "execution_count": 26,
   "metadata": {},
   "outputs": [
    {
     "data": {
      "image/png": "[encoded data removed]",
      "text/plain": [
       "<Figure size 800x600 with 1 Axes>"
      ]
     },
     "metadata": {},
     "output_type": "display_data"
    }
   ],
   "source": [
    " \n",
    "# Select the \"Avg RTT DL (ms)\" column\n",
    "avg_rtt_dl_data = df['TCP DL Retrans. Vol (Bytes)']\n",
    "\n",
    "# Create a box plot to visualize the dispersion of the data\n",
    "plt.figure(figsize=(8, 6))\n",
    "avg_rtt_dl_data.plot(kind='box', vert=False, widths=0.7, patch_artist=True, flierprops=dict(marker='o', markerfacecolor='r', markersize=8, linestyle='none'))\n",
    "\n",
    "# Add a title and labels\n",
    "plt.title('TCP DL Retrans. Vol (Bytes)')\n",
    "plt.xlabel('TCP DL Retrans. Vol (Bytes)')\n",
    "plt.show()"
   ]
  },
  {
   "cell_type": "code",
   "execution_count": 27,
   "metadata": {},
   "outputs": [
    {
     "name": "stderr",
     "output_type": "stream",
     "text": [
      "C:\\Users\\Nole\\AppData\\Local\\Temp\\ipykernel_22880\\445891709.py:1: FutureWarning: Series.fillna with 'method' is deprecated and will raise in a future version. Use obj.ffill() or obj.bfill() instead.\n",
      "  df['TCP DL Retrans. Vol (Bytes)'].fillna(method='ffill', inplace=True)\n",
      "C:\\Users\\Nole\\AppData\\Local\\Temp\\ipykernel_22880\\445891709.py:2: FutureWarning: Series.fillna with 'method' is deprecated and will raise in a future version. Use obj.ffill() or obj.bfill() instead.\n",
      "  df['TCP DL Retrans. Vol (Bytes)'].fillna(method='bfill', inplace=True)\n"
     ]
    }
   ],
   "source": [
    "df['TCP DL Retrans. Vol (Bytes)'].fillna(method='ffill', inplace=True)\n",
    "df['TCP DL Retrans. Vol (Bytes)'].fillna(method='bfill', inplace=True)\n"
   ]
  },
  {
   "cell_type": "code",
   "execution_count": null,
   "metadata": {},
   "outputs": [],
   "source": []
  },
  {
   "cell_type": "code",
   "execution_count": 28,
   "metadata": {},
   "outputs": [
    {
     "data": {
      "image/png": "[encoded data removed]",
      "text/plain": [
       "<Figure size 800x600 with 1 Axes>"
      ]
     },
     "metadata": {},
     "output_type": "display_data"
    }
   ],
   "source": [
    "# Select the \"Avg RTT DL (ms)\" column\n",
    "avg_rtt_dl_data = df['TCP UL Retrans. Vol (Bytes)']\n",
    "\n",
    "# Create a box plot to visualize the dispersion of the data\n",
    "plt.figure(figsize=(8, 6))\n",
    "avg_rtt_dl_data.plot(kind='box', vert=False, widths=0.7, patch_artist=True, flierprops=dict(marker='o', markerfacecolor='r', markersize=8, linestyle='none'))\n",
    "\n",
    "# Add a title and labels\n",
    "plt.title('TCP UL Retrans. Vol (Bytes)')\n",
    "plt.xlabel('TCP UL Retrans. Vol (Bytes)')\n",
    "plt.show()"
   ]
  },
  {
   "cell_type": "code",
   "execution_count": 29,
   "metadata": {},
   "outputs": [
    {
     "name": "stderr",
     "output_type": "stream",
     "text": [
      "C:\\Users\\Nole\\AppData\\Local\\Temp\\ipykernel_22880\\4111183371.py:1: FutureWarning: Series.fillna with 'method' is deprecated and will raise in a future version. Use obj.ffill() or obj.bfill() instead.\n",
      "  df['TCP UL Retrans. Vol (Bytes)'].fillna(method='ffill', inplace=True)\n",
      "C:\\Users\\Nole\\AppData\\Local\\Temp\\ipykernel_22880\\4111183371.py:2: FutureWarning: Series.fillna with 'method' is deprecated and will raise in a future version. Use obj.ffill() or obj.bfill() instead.\n",
      "  df['TCP UL Retrans. Vol (Bytes)'].fillna(method='bfill', inplace=True)\n"
     ]
    }
   ],
   "source": [
    "df['TCP UL Retrans. Vol (Bytes)'].fillna(method='ffill', inplace=True)\n",
    "df['TCP UL Retrans. Vol (Bytes)'].fillna(method='bfill', inplace=True)\n"
   ]
  },
  {
   "cell_type": "code",
   "execution_count": null,
   "metadata": {},
   "outputs": [],
   "source": []
  },
  {
   "cell_type": "code",
   "execution_count": 30,
   "metadata": {},
   "outputs": [
    {
     "data": {
      "text/plain": [
       "Bearer Id                          991\n",
       "Start                                1\n",
       "Start ms                             1\n",
       "End                                  1\n",
       "End ms                               1\n",
       "Dur. (ms)                            1\n",
       "IMSI                               570\n",
       "MSISDN/Number                     1066\n",
       "IMEI                               572\n",
       "Last Location Name                1153\n",
       "Avg RTT DL (ms)                      0\n",
       "Avg RTT UL (ms)                      1\n",
       "Avg Bearer TP DL (kbps)              1\n",
       "Avg Bearer TP UL (kbps)              1\n",
       "TCP DL Retrans. Vol (Bytes)          0\n",
       "TCP UL Retrans. Vol (Bytes)          0\n",
       "DL TP < 50 Kbps (%)                754\n",
       "50 Kbps < DL TP < 250 Kbps (%)     754\n",
       "250 Kbps < DL TP < 1 Mbps (%)      754\n",
       "DL TP > 1 Mbps (%)                 754\n",
       "UL TP < 10 Kbps (%)                792\n",
       "10 Kbps < UL TP < 50 Kbps (%)      792\n",
       "50 Kbps < UL TP < 300 Kbps (%)     792\n",
       "UL TP > 300 Kbps (%)               792\n",
       "Activity Duration DL (ms)            1\n",
       "Activity Duration UL (ms)            1\n",
       "Dur. (ms).1                          1\n",
       "Handset Manufacturer               572\n",
       "Handset Type                       572\n",
       "Nb of sec with Vol DL < 6250B      755\n",
       "Nb of sec with Vol UL < 1250B      793\n",
       "Social Media DL (Bytes)              0\n",
       "Social Media UL (Bytes)              0\n",
       "Google DL (Bytes)                    0\n",
       "Google UL (Bytes)                    0\n",
       "Email DL (Bytes)                     0\n",
       "Email UL (Bytes)                     0\n",
       "Youtube DL (Bytes)                   0\n",
       "Youtube UL (Bytes)                   0\n",
       "Netflix DL (Bytes)                   0\n",
       "Netflix UL (Bytes)                   0\n",
       "Gaming DL (Bytes)                    0\n",
       "Gaming UL (Bytes)                    0\n",
       "Other DL (Bytes)                     0\n",
       "Other UL (Bytes)                     0\n",
       "Total UL (Bytes)                     1\n",
       "Total DL (Bytes)                     1\n",
       "dtype: int64"
      ]
     },
     "execution_count": 30,
     "metadata": {},
     "output_type": "execute_result"
    }
   ],
   "source": [
    "missingCount = df.isnull().sum()\n",
    "missingCount"
   ]
  },
  {
   "cell_type": "code",
   "execution_count": 31,
   "metadata": {},
   "outputs": [
    {
     "data": {
      "text/plain": [
       "(150001, 47)"
      ]
     },
     "execution_count": 31,
     "metadata": {},
     "output_type": "execute_result"
    }
   ],
   "source": [
    "df.shape"
   ]
  },
  {
   "cell_type": "markdown",
   "metadata": {},
   "source": [
    "# to drop  all the rows with missing values"
   ]
  },
  {
   "cell_type": "code",
   "execution_count": 32,
   "metadata": {},
   "outputs": [],
   "source": [
    "df.dropna(subset=['Bearer Id'], inplace=True)"
   ]
  },
  {
   "cell_type": "code",
   "execution_count": 33,
   "metadata": {},
   "outputs": [],
   "source": [
    "df.dropna(subset=['IMSI'], inplace=True)"
   ]
  },
  {
   "cell_type": "code",
   "execution_count": 34,
   "metadata": {},
   "outputs": [],
   "source": [
    "df.dropna(subset=['MSISDN/Number'], inplace=True)"
   ]
  },
  {
   "cell_type": "code",
   "execution_count": 35,
   "metadata": {},
   "outputs": [],
   "source": [
    "df.dropna(subset=['IMEI'], inplace=True)"
   ]
  },
  {
   "cell_type": "code",
   "execution_count": 36,
   "metadata": {},
   "outputs": [],
   "source": [
    "df.dropna(subset=['Last Location Name'], inplace=True)"
   ]
  },
  {
   "cell_type": "code",
   "execution_count": 37,
   "metadata": {},
   "outputs": [
    {
     "data": {
      "text/plain": [
       "Bearer Id                           0\n",
       "Start                               0\n",
       "Start ms                            0\n",
       "End                                 0\n",
       "End ms                              0\n",
       "Dur. (ms)                           0\n",
       "IMSI                                0\n",
       "MSISDN/Number                       0\n",
       "IMEI                                0\n",
       "Last Location Name                  0\n",
       "Avg RTT DL (ms)                     0\n",
       "Avg RTT UL (ms)                     0\n",
       "Avg Bearer TP DL (kbps)             0\n",
       "Avg Bearer TP UL (kbps)             0\n",
       "TCP DL Retrans. Vol (Bytes)         0\n",
       "TCP UL Retrans. Vol (Bytes)         0\n",
       "DL TP < 50 Kbps (%)               688\n",
       "50 Kbps < DL TP < 250 Kbps (%)    688\n",
       "250 Kbps < DL TP < 1 Mbps (%)     688\n",
       "DL TP > 1 Mbps (%)                688\n",
       "UL TP < 10 Kbps (%)               765\n",
       "10 Kbps < UL TP < 50 Kbps (%)     765\n",
       "50 Kbps < UL TP < 300 Kbps (%)    765\n",
       "UL TP > 300 Kbps (%)              765\n",
       "Activity Duration DL (ms)           0\n",
       "Activity Duration UL (ms)           0\n",
       "Dur. (ms).1                         0\n",
       "Handset Manufacturer                0\n",
       "Handset Type                        0\n",
       "Nb of sec with Vol DL < 6250B     689\n",
       "Nb of sec with Vol UL < 1250B     766\n",
       "Social Media DL (Bytes)             0\n",
       "Social Media UL (Bytes)             0\n",
       "Google DL (Bytes)                   0\n",
       "Google UL (Bytes)                   0\n",
       "Email DL (Bytes)                    0\n",
       "Email UL (Bytes)                    0\n",
       "Youtube DL (Bytes)                  0\n",
       "Youtube UL (Bytes)                  0\n",
       "Netflix DL (Bytes)                  0\n",
       "Netflix UL (Bytes)                  0\n",
       "Gaming DL (Bytes)                   0\n",
       "Gaming UL (Bytes)                   0\n",
       "Other DL (Bytes)                    0\n",
       "Other UL (Bytes)                    0\n",
       "Total UL (Bytes)                    0\n",
       "Total DL (Bytes)                    0\n",
       "dtype: int64"
      ]
     },
     "execution_count": 37,
     "metadata": {},
     "output_type": "execute_result"
    }
   ],
   "source": [
    "missingCount = df.isnull().sum()\n",
    "missingCount\n"
   ]
  },
  {
   "cell_type": "code",
   "execution_count": 38,
   "metadata": {},
   "outputs": [
    {
     "data": {
      "text/plain": [
       "(148346, 47)"
      ]
     },
     "execution_count": 38,
     "metadata": {},
     "output_type": "execute_result"
    }
   ],
   "source": [
    "df.shape"
   ]
  },
  {
   "cell_type": "code",
   "execution_count": 39,
   "metadata": {},
   "outputs": [],
   "source": [
    "# Assuming df is your DataFrame\n",
    "cleaned_df = df.dropna()\n"
   ]
  },
  {
   "cell_type": "code",
   "execution_count": 40,
   "metadata": {},
   "outputs": [
    {
     "data": {
      "text/plain": [
       "Bearer Id                         0.0\n",
       "Start                             0.0\n",
       "Start ms                          0.0\n",
       "End                               0.0\n",
       "End ms                            0.0\n",
       "Dur. (ms)                         0.0\n",
       "IMSI                              0.0\n",
       "MSISDN/Number                     0.0\n",
       "IMEI                              0.0\n",
       "Last Location Name                0.0\n",
       "Avg RTT DL (ms)                   0.0\n",
       "Avg RTT UL (ms)                   0.0\n",
       "Avg Bearer TP DL (kbps)           0.0\n",
       "Avg Bearer TP UL (kbps)           0.0\n",
       "TCP DL Retrans. Vol (Bytes)       0.0\n",
       "TCP UL Retrans. Vol (Bytes)       0.0\n",
       "DL TP < 50 Kbps (%)               0.0\n",
       "50 Kbps < DL TP < 250 Kbps (%)    0.0\n",
       "250 Kbps < DL TP < 1 Mbps (%)     0.0\n",
       "DL TP > 1 Mbps (%)                0.0\n",
       "UL TP < 10 Kbps (%)               0.0\n",
       "10 Kbps < UL TP < 50 Kbps (%)     0.0\n",
       "50 Kbps < UL TP < 300 Kbps (%)    0.0\n",
       "UL TP > 300 Kbps (%)              0.0\n",
       "Activity Duration DL (ms)         0.0\n",
       "Activity Duration UL (ms)         0.0\n",
       "Dur. (ms).1                       0.0\n",
       "Handset Manufacturer              0.0\n",
       "Handset Type                      0.0\n",
       "Nb of sec with Vol DL < 6250B     0.0\n",
       "Nb of sec with Vol UL < 1250B     0.0\n",
       "Social Media DL (Bytes)           0.0\n",
       "Social Media UL (Bytes)           0.0\n",
       "Google DL (Bytes)                 0.0\n",
       "Google UL (Bytes)                 0.0\n",
       "Email DL (Bytes)                  0.0\n",
       "Email UL (Bytes)                  0.0\n",
       "Youtube DL (Bytes)                0.0\n",
       "Youtube UL (Bytes)                0.0\n",
       "Netflix DL (Bytes)                0.0\n",
       "Netflix UL (Bytes)                0.0\n",
       "Gaming DL (Bytes)                 0.0\n",
       "Gaming UL (Bytes)                 0.0\n",
       "Other DL (Bytes)                  0.0\n",
       "Other UL (Bytes)                  0.0\n",
       "Total UL (Bytes)                  0.0\n",
       "Total DL (Bytes)                  0.0\n",
       "dtype: float64"
      ]
     },
     "execution_count": 40,
     "metadata": {},
     "output_type": "execute_result"
    }
   ],
   "source": [
    "# Calculate the percentage of null values in each column\n",
    "null_percentage = cleaned_df.isnull().mean() * 100\n",
    "\n",
    "# Display the null percentage for each column\n",
    "null_percentage\n"
   ]
  },
  {
   "cell_type": "code",
   "execution_count": 41,
   "metadata": {},
   "outputs": [
    {
     "data": {
      "text/plain": [
       "(146891, 47)"
      ]
     },
     "execution_count": 41,
     "metadata": {},
     "output_type": "execute_result"
    }
   ],
   "source": [
    "cleaned_df.shape"
   ]
  },
  {
   "cell_type": "code",
   "execution_count": 42,
   "metadata": {},
   "outputs": [],
   "source": [
    "cleaned_df.to_csv('C:\\\\Users\\\\Nole\\\\Desktop\\\\Teleco\\\\Notebook\\\\Cleaned_data_csv\\\\cleaned_data.csv', index=False)\n"
   ]
  },
  {
   "cell_type": "code",
   "execution_count": 43,
   "metadata": {},
   "outputs": [],
   "source": [
    "\n",
    "\n",
    "# Load the saved CSV file into a new DataFrame\n",
    "new_df = pd.read_csv('C:\\\\Users\\\\Nole\\\\Desktop\\\\Teleco\\\\Notebook\\\\Cleaned_data_csv\\\\cleaned_data.csv')\n",
    "\n",
    "# Now you can use the new_df DataFrame for further analysis in pandas\n"
   ]
  },
  {
   "cell_type": "code",
   "execution_count": 44,
   "metadata": {},
   "outputs": [
    {
     "data": {
      "text/plain": [
       "['Bearer Id',\n",
       " 'Start',\n",
       " 'Start ms',\n",
       " 'End',\n",
       " 'End ms',\n",
       " 'Dur. (ms)',\n",
       " 'IMSI',\n",
       " 'MSISDN/Number',\n",
       " 'IMEI',\n",
       " 'Last Location Name',\n",
       " 'Avg RTT DL (ms)',\n",
       " 'Avg RTT UL (ms)',\n",
       " 'Avg Bearer TP DL (kbps)',\n",
       " 'Avg Bearer TP UL (kbps)',\n",
       " 'TCP DL Retrans. Vol (Bytes)',\n",
       " 'TCP UL Retrans. Vol (Bytes)',\n",
       " 'DL TP < 50 Kbps (%)',\n",
       " '50 Kbps < DL TP < 250 Kbps (%)',\n",
       " '250 Kbps < DL TP < 1 Mbps (%)',\n",
       " 'DL TP > 1 Mbps (%)',\n",
       " 'UL TP < 10 Kbps (%)',\n",
       " '10 Kbps < UL TP < 50 Kbps (%)',\n",
       " '50 Kbps < UL TP < 300 Kbps (%)',\n",
       " 'UL TP > 300 Kbps (%)',\n",
       " 'Activity Duration DL (ms)',\n",
       " 'Activity Duration UL (ms)',\n",
       " 'Dur. (ms).1',\n",
       " 'Handset Manufacturer',\n",
       " 'Handset Type',\n",
       " 'Nb of sec with Vol DL < 6250B',\n",
       " 'Nb of sec with Vol UL < 1250B',\n",
       " 'Social Media DL (Bytes)',\n",
       " 'Social Media UL (Bytes)',\n",
       " 'Google DL (Bytes)',\n",
       " 'Google UL (Bytes)',\n",
       " 'Email DL (Bytes)',\n",
       " 'Email UL (Bytes)',\n",
       " 'Youtube DL (Bytes)',\n",
       " 'Youtube UL (Bytes)',\n",
       " 'Netflix DL (Bytes)',\n",
       " 'Netflix UL (Bytes)',\n",
       " 'Gaming DL (Bytes)',\n",
       " 'Gaming UL (Bytes)',\n",
       " 'Other DL (Bytes)',\n",
       " 'Other UL (Bytes)',\n",
       " 'Total UL (Bytes)',\n",
       " 'Total DL (Bytes)']"
      ]
     },
     "execution_count": 44,
     "metadata": {},
     "output_type": "execute_result"
    }
   ],
   "source": [
    "new_df.columns.tolist()"
   ]
  },
  {
   "cell_type": "code",
   "execution_count": 45,
   "metadata": {},
   "outputs": [
    {
     "data": {
      "text/plain": [
       "(146891, 47)"
      ]
     },
     "execution_count": 45,
     "metadata": {},
     "output_type": "execute_result"
    }
   ],
   "source": [
    "new_df.shape"
   ]
  },
  {
   "cell_type": "code",
   "execution_count": 46,
   "metadata": {},
   "outputs": [
    {
     "data": {
      "text/plain": [
       "Bearer Id                         0.0\n",
       "Start                             0.0\n",
       "Start ms                          0.0\n",
       "End                               0.0\n",
       "End ms                            0.0\n",
       "Dur. (ms)                         0.0\n",
       "IMSI                              0.0\n",
       "MSISDN/Number                     0.0\n",
       "IMEI                              0.0\n",
       "Last Location Name                0.0\n",
       "Avg RTT DL (ms)                   0.0\n",
       "Avg RTT UL (ms)                   0.0\n",
       "Avg Bearer TP DL (kbps)           0.0\n",
       "Avg Bearer TP UL (kbps)           0.0\n",
       "TCP DL Retrans. Vol (Bytes)       0.0\n",
       "TCP UL Retrans. Vol (Bytes)       0.0\n",
       "DL TP < 50 Kbps (%)               0.0\n",
       "50 Kbps < DL TP < 250 Kbps (%)    0.0\n",
       "250 Kbps < DL TP < 1 Mbps (%)     0.0\n",
       "DL TP > 1 Mbps (%)                0.0\n",
       "UL TP < 10 Kbps (%)               0.0\n",
       "10 Kbps < UL TP < 50 Kbps (%)     0.0\n",
       "50 Kbps < UL TP < 300 Kbps (%)    0.0\n",
       "UL TP > 300 Kbps (%)              0.0\n",
       "Activity Duration DL (ms)         0.0\n",
       "Activity Duration UL (ms)         0.0\n",
       "Dur. (ms).1                       0.0\n",
       "Handset Manufacturer              0.0\n",
       "Handset Type                      0.0\n",
       "Nb of sec with Vol DL < 6250B     0.0\n",
       "Nb of sec with Vol UL < 1250B     0.0\n",
       "Social Media DL (Bytes)           0.0\n",
       "Social Media UL (Bytes)           0.0\n",
       "Google DL (Bytes)                 0.0\n",
       "Google UL (Bytes)                 0.0\n",
       "Email DL (Bytes)                  0.0\n",
       "Email UL (Bytes)                  0.0\n",
       "Youtube DL (Bytes)                0.0\n",
       "Youtube UL (Bytes)                0.0\n",
       "Netflix DL (Bytes)                0.0\n",
       "Netflix UL (Bytes)                0.0\n",
       "Gaming DL (Bytes)                 0.0\n",
       "Gaming UL (Bytes)                 0.0\n",
       "Other DL (Bytes)                  0.0\n",
       "Other UL (Bytes)                  0.0\n",
       "Total UL (Bytes)                  0.0\n",
       "Total DL (Bytes)                  0.0\n",
       "dtype: float64"
      ]
     },
     "execution_count": 46,
     "metadata": {},
     "output_type": "execute_result"
    }
   ],
   "source": [
    "# Calculate the percentage of null values in each column\n",
    "null_percentage = new_df.isnull().mean() * 100\n",
    "\n",
    "# Display the null percentage for each column\n",
    "null_percentage\n"
   ]
  }
 ],
 "metadata": {
  "kernelspec": {
   "display_name": "tele",
   "language": "python",
   "name": "python3"
  },
  "language_info": {
   "codemirror_mode": {
    "name": "ipython",
    "version": 3
   },
   "file_extension": ".py",
   "mimetype": "text/x-python",
   "name": "python",
   "nbconvert_exporter": "python",
   "pygments_lexer": "ipython3",
   "version": "3.11.5"
  }
 },
 "nbformat": 4,
 "nbformat_minor": 2
}
